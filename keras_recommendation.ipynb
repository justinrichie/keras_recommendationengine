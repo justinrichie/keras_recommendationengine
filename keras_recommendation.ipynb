{
 "cells": [
  {
   "cell_type": "code",
   "execution_count": null,
   "metadata": {},
   "outputs": [],
   "source": [
    "import tensorflow as tf\n"
   ]
  },
  {
   "cell_type": "code",
   "execution_count": null,
   "metadata": {},
   "outputs": [],
   "source": [
    "print(tf.__version__)"
   ]
  },
  {
   "cell_type": "code",
   "execution_count": null,
   "metadata": {},
   "outputs": [],
   "source": [
    "from keras.layers import Input, Embedding, Flatten, Dot, Dense, Concatenate\n",
    "from keras.models import Model\n",
    "\n",
    "from sklearn.model_selection import train_test_split"
   ]
  },
  {
   "cell_type": "code",
   "execution_count": null,
   "metadata": {},
   "outputs": [],
   "source": [
    "\n",
    "import numpy as np\n",
    "import pandas as pd\n",
    "import matplotlib.pyplot as plt\n",
    "import os\n",
    "import warnings\n",
    "\n",
    "\n",
    "\n",
    "warnings.filterwarnings('ignore')\n",
    "%matplotlib inline"
   ]
  },
  {
   "cell_type": "code",
   "execution_count": null,
   "metadata": {},
   "outputs": [],
   "source": [
    "data=pd.read_csv('favorites_sample_small.csv', delimiter=';',error_bad_lines=False)\n"
   ]
  },
  {
   "cell_type": "code",
   "execution_count": null,
   "metadata": {},
   "outputs": [],
   "source": [
    "data.head(10)"
   ]
  },
  {
   "cell_type": "code",
   "execution_count": null,
   "metadata": {},
   "outputs": [],
   "source": [
    "data.info()"
   ]
  },
  {
   "cell_type": "code",
   "execution_count": null,
   "metadata": {},
   "outputs": [],
   "source": [
    "data['Description_Flag'] = np.where(data['pet_description'].notnull(), 1, 0)\n",
    "\n"
   ]
  },
  {
   "cell_type": "code",
   "execution_count": null,
   "metadata": {},
   "outputs": [],
   "source": [
    "data['organization_type'].fillna(\"Unknown\", inplace = True) "
   ]
  },
  {
   "cell_type": "code",
   "execution_count": null,
   "metadata": {},
   "outputs": [],
   "source": [
    "data.head(10)"
   ]
  },
  {
   "cell_type": "code",
   "execution_count": null,
   "metadata": {},
   "outputs": [],
   "source": [
    "print(\"Unique Values in `Flag_Detail` => {}\".format(data.Description_Flag.unique()))"
   ]
  },
  {
   "cell_type": "code",
   "execution_count": null,
   "metadata": {},
   "outputs": [],
   "source": [
    "data_des = data[[\n",
    "    'Description_Flag'\n",
    "    ,'pet_description']].copy()\n",
    "\n",
    "data_des.head()"
   ]
  },
  {
   "cell_type": "code",
   "execution_count": null,
   "metadata": {},
   "outputs": [],
   "source": [
    "data2 = data[[\n",
    "    'user_id'\n",
    "    ,'id'\n",
    "    ,'num_aifs']].copy()"
   ]
  },
  {
   "cell_type": "code",
   "execution_count": null,
   "metadata": {},
   "outputs": [],
   "source": [
    "datatest = data[[\n",
    "    'user_id'\n",
    "    ,'id'\n",
    "    ,'Description_Flag'\n",
    "    ,'mixed_breed'\n",
    "    ,'animal_type'\n",
    "    ,'age'\n",
    "    ,'state_code'\n",
    "    ,'primary_breed'\n",
    "    ,'organization_type'\n",
    "    ,'gender'\n",
    "    ,'size'\n",
    "    ,'num_aifs'\n",
    "    ,'house_trained'\n",
    "    ,'coat_length'\n",
    "    ,'num_videos'\n",
    "    ,'num_photos'\n",
    "    ,'good_with_dogs'\n",
    "    ,'good_with_cats'\n",
    "    ,'good_with_children']].copy()"
   ]
  },
  {
   "cell_type": "code",
   "execution_count": null,
   "metadata": {},
   "outputs": [],
   "source": [
    "n_users = len(data2.user_id.unique())\n",
    "print(n_users)\n",
    "n_favorites = len(data2.id.unique())\n",
    "print(n_favorites)"
   ]
  },
  {
   "cell_type": "code",
   "execution_count": null,
   "metadata": {},
   "outputs": [],
   "source": [
    "train, test = train_test_split(data2, test_size=0.2, random_state=42)\n"
   ]
  },
  {
   "cell_type": "code",
   "execution_count": null,
   "metadata": {},
   "outputs": [],
   "source": [
    "print (train)\n"
   ]
  },
  {
   "cell_type": "code",
   "execution_count": null,
   "metadata": {},
   "outputs": [],
   "source": [
    "# convert \"user_id\" and \"id\" column to sequential id's\n",
    "train['user_id'] = train.groupby(train.user_id).grouper.group_info[0]\n",
    "train['id'] = train.groupby(train.id).grouper.group_info[0]"
   ]
  },
  {
   "cell_type": "code",
   "execution_count": null,
   "metadata": {},
   "outputs": [],
   "source": [
    "\n",
    "fav_input = Input(shape=[1], name=\"Fav-Input\")\n",
    "fav_embedding = Embedding(n_favorites, 50, name=\"Fav-Embedding\")(fav_input)\n",
    "fav_vec = Flatten(name=\"Flatten-Books\")(fav_embedding)\n",
    "\n",
    "\n",
    "user_input = Input(shape=[1], name=\"User-Input\")\n",
    "user_embedding = Embedding(n_users, 50, name=\"User-Embedding\")(user_input)\n",
    "user_vec = Flatten(name=\"Flatten-Users\")(user_embedding)\n",
    "\n",
    "\n",
    "prod = Dot(name=\"Dot-Product\", axes=1)([fav_vec, user_vec])\n",
    "model = Model([user_input, fav_input], prod)\n",
    "model.compile('adam', 'mean_squared_error')"
   ]
  },
  {
   "cell_type": "code",
   "execution_count": null,
   "metadata": {},
   "outputs": [],
   "source": [
    "#Model error\n",
    "#https://github.com/tensorflow/tensorflow/issues/23698\n",
    "\n",
    "\n",
    "from keras.models import load_model\n",
    "\n",
    "if os.path.exists('model.h5'):\n",
    "    model = load_model('model.h5')\n",
    "else:\n",
    "    history = model.fit([train.user_id, train.id], train.num_aifs, epochs=10, verbose=1)\n",
    "    model.save('model.h5')\n",
    "    plt.plot(history.history['loss'])\n",
    "    plt.xlabel(\"Epochs\")\n",
    "    plt.ylabel(\"Training Error\")"
   ]
  }
 ],
 "metadata": {
  "kernelspec": {
   "display_name": "Python 3",
   "language": "python",
   "name": "python3"
  },
  "language_info": {
   "codemirror_mode": {
    "name": "ipython",
    "version": 3
   },
   "file_extension": ".py",
   "mimetype": "text/x-python",
   "name": "python",
   "nbconvert_exporter": "python",
   "pygments_lexer": "ipython3",
   "version": "3.7.3"
  }
 },
 "nbformat": 4,
 "nbformat_minor": 4
}

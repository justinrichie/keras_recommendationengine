{
 "cells": [
  {
   "cell_type": "code",
   "execution_count": null,
   "metadata": {},
   "outputs": [],
   "source": [
    "import tensorflow as tf"
   ]
  },
  {
   "cell_type": "code",
   "execution_count": null,
   "metadata": {},
   "outputs": [],
   "source": [
    "print(tf.__version__)"
   ]
  },
  {
   "cell_type": "code",
   "execution_count": null,
   "metadata": {},
   "outputs": [],
   "source": [
    "from keras.layers import Input, Embedding, Flatten, Dot, Dense, Concatenate\n",
    "from keras.models import Model\n",
    "\n",
    "from sklearn.model_selection import train_test_split\n",
    "from sklearn.preprocessing import LabelEncoder"
   ]
  },
  {
   "cell_type": "code",
   "execution_count": null,
   "metadata": {},
   "outputs": [],
   "source": [
    "import numpy as np\n",
    "import pandas as pd\n",
    "import matplotlib.pyplot as plt\n",
    "import os\n",
    "import warnings\n",
    "\n",
    "warnings.filterwarnings('ignore')\n",
    "%matplotlib inline"
   ]
  },
  {
   "cell_type": "code",
   "execution_count": null,
   "metadata": {},
   "outputs": [],
   "source": [
    "data=pd.read_csv('../petfinder_data/favorites_sample_small.csv', delimiter=';',error_bad_lines=False)"
   ]
  },
  {
   "cell_type": "code",
   "execution_count": null,
   "metadata": {},
   "outputs": [],
   "source": [
    "data.head(10)"
   ]
  },
  {
   "cell_type": "code",
   "execution_count": null,
   "metadata": {},
   "outputs": [],
   "source": [
    "data.info()"
   ]
  },
  {
   "cell_type": "code",
   "execution_count": null,
   "metadata": {},
   "outputs": [],
   "source": [
    "data['Description_Flag'] = np.where(data['pet_description'].notnull(), 1, 0)"
   ]
  },
  {
   "cell_type": "code",
   "execution_count": null,
   "metadata": {},
   "outputs": [],
   "source": [
    "data['organization_type'].fillna(\"Unknown\", inplace = True) "
   ]
  },
  {
   "cell_type": "code",
   "execution_count": null,
   "metadata": {},
   "outputs": [],
   "source": [
    "data.head(10)"
   ]
  },
  {
   "cell_type": "code",
   "execution_count": null,
   "metadata": {},
   "outputs": [],
   "source": [
    "print(\"Unique Values in `Flag_Detail` => {}\".format(data.Description_Flag.unique()))"
   ]
  },
  {
   "cell_type": "code",
   "execution_count": null,
   "metadata": {},
   "outputs": [],
   "source": [
    "data_des = data[[\n",
    "    'Description_Flag'\n",
    "    ,'pet_description']].copy()\n",
    "\n",
    "data_des.head()"
   ]
  },
  {
   "cell_type": "code",
   "execution_count": null,
   "metadata": {},
   "outputs": [],
   "source": [
    "data2 = data[[\n",
    "    'user_id'\n",
    "    ,'id'\n",
    "    ,'num_aifs'\n",
    "    , 'Description_Flag'\n",
    "    , 'mixed_breed']].copy()"
   ]
  },
  {
   "cell_type": "code",
   "execution_count": null,
   "metadata": {},
   "outputs": [],
   "source": [
    "datatest = data[[\n",
    "    'user_id'\n",
    "    ,'id'\n",
    "    ,'Description_Flag'\n",
    "    ,'mixed_breed'\n",
    "    ,'animal_type'\n",
    "    ,'age'\n",
    "    ,'state_code'\n",
    "    ,'primary_breed'\n",
    "    ,'organization_type'\n",
    "    ,'gender'\n",
    "    ,'size'\n",
    "    ,'num_aifs'\n",
    "    ,'house_trained'\n",
    "    ,'coat_length'\n",
    "    ,'num_videos'\n",
    "    ,'num_photos'\n",
    "    ,'good_with_dogs'\n",
    "    ,'good_with_cats'\n",
    "    ,'good_with_children']].copy()"
   ]
  },
  {
   "cell_type": "code",
   "execution_count": null,
   "metadata": {},
   "outputs": [],
   "source": [
    "user_enc = LabelEncoder()\n",
    "# can later use user_enc like so user_enc.inverse_transform([24230]) to get original user_id\n",
    "data2['user'] = user_enc.fit_transform(data2['user_id'].values)\n",
    "\n",
    "pet_enc = LabelEncoder()\n",
    "data2['pet'] = pet_enc.fit_transform(data2['id'].values)\n",
    "\n",
    "n_users = data2['user'].nunique()\n",
    "print(n_users)\n",
    "n_favorites = data2['pet'].nunique()\n",
    "print(n_favorites)"
   ]
  },
  {
   "cell_type": "code",
   "execution_count": null,
   "metadata": {},
   "outputs": [],
   "source": [
    "# validate encodings start from 0 and index to n_users-1 and n_favorites-1\n",
    "print(data2.user.min())\n",
    "print(data2.user.max())\n",
    "print(data2.pet.min())\n",
    "print(data2.pet.max())"
   ]
  },
  {
   "cell_type": "code",
   "execution_count": null,
   "metadata": {},
   "outputs": [],
   "source": [
    "train, test = train_test_split(data2, test_size=0.2, random_state=42)"
   ]
  },
  {
   "cell_type": "code",
   "execution_count": null,
   "metadata": {},
   "outputs": [],
   "source": [
    "print(train)"
   ]
  },
  {
   "cell_type": "code",
   "execution_count": null,
   "metadata": {},
   "outputs": [],
   "source": [
    "fav_input = Input(shape=[1], name=\"Fav-Input\")\n",
    "fav_embedding = Embedding(n_favorites, 10, name=\"Fav-Embedding\")(fav_input)\n",
    "fav_vec = Flatten(name=\"Flatten-Books\")(fav_embedding)\n",
    "\n",
    "\n",
    "user_input = Input(shape=[1], name=\"User-Input\")\n",
    "user_embedding = Embedding(n_users, 10, name=\"User-Embedding\")(user_input)\n",
    "user_vec = Flatten(name=\"Flatten-Users\")(user_embedding)\n",
    "\n",
    "\n",
    "prod = Dot(name=\"Dot-Product\", axes=1)([fav_vec, user_vec])\n",
    "model = Model([user_input, fav_input], prod)\n",
    "model.compile('adam', 'mean_squared_error')"
   ]
  },
  {
   "cell_type": "code",
   "execution_count": null,
   "metadata": {},
   "outputs": [],
   "source": [
    "#Model error\n",
    "#https://github.com/tensorflow/tensorflow/issues/23698\n",
    "\n",
    "from keras.models import load_model\n",
    "\n",
    "if os.path.exists('model.h5'):\n",
    "    model = load_model('model.h5')\n",
    "else:\n",
    "    history = model.fit([train.user, train.pet], train.num_aifs, epochs=5, verbose=1)\n",
    "    model.save('model.h5')\n",
    "    plt.plot(history.history['loss'])\n",
    "    plt.xlabel(\"Epochs\")\n",
    "    plt.ylabel(\"Training Error\")"
   ]
  },
  {
   "cell_type": "code",
   "execution_count": null,
   "metadata": {},
   "outputs": [],
   "source": [
    "# Creating dataset for making recommendations for the first user\n",
    "pet_data = np.array(list(set(train.pet)))\n",
    "user = np.array([1 for i in range(len(pet_data))])\n",
    "predictions = model.predict([user, pet_data])\n",
    "predictions = np.array([a[0] for a in predictions])\n",
    "recommended_pet_ids = (-predictions).argsort()[:5]\n",
    "print(recommended_pet_ids)\n",
    "print(predictions[recommended_pet_ids])"
   ]
  }
 ],
 "metadata": {
  "kernelspec": {
   "display_name": "Python 3",
   "language": "python",
   "name": "python3"
  },
  "language_info": {
   "codemirror_mode": {
    "name": "ipython",
    "version": 3
   },
   "file_extension": ".py",
   "mimetype": "text/x-python",
   "name": "python",
   "nbconvert_exporter": "python",
   "pygments_lexer": "ipython3",
   "version": "3.7.3"
  }
 },
 "nbformat": 4,
 "nbformat_minor": 4
}
